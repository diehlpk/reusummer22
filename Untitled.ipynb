{
 "cells": [
  {
   "cell_type": "code",
   "execution_count": 1,
   "id": "4be3e76b",
   "metadata": {},
   "outputs": [],
   "source": [
    "a=1\n",
    "b=2\n",
    "c=3"
   ]
  },
  {
   "cell_type": "code",
   "execution_count": 2,
   "id": "93f3d2cd",
   "metadata": {},
   "outputs": [],
   "source": [
    "n = 4\n",
    "hl=a/n"
   ]
  },
  {
   "cell_type": "code",
   "execution_count": 3,
   "id": "2e89545e",
   "metadata": {},
   "outputs": [],
   "source": [
    "m = 2\n",
    "delta=0.25\n",
    "h = delta/m\n",
    "nd = int((b-a) / h) + 1"
   ]
  },
  {
   "cell_type": "code",
   "execution_count": 4,
   "id": "4c25c787",
   "metadata": {},
   "outputs": [
    {
     "data": {
      "text/plain": [
       "0.125"
      ]
     },
     "execution_count": 4,
     "metadata": {},
     "output_type": "execute_result"
    }
   ],
   "source": [
    "h"
   ]
  },
  {
   "cell_type": "code",
   "execution_count": 5,
   "id": "58c9380d",
   "metadata": {},
   "outputs": [],
   "source": [
    "import numpy as np"
   ]
  },
  {
   "cell_type": "code",
   "execution_count": 6,
   "id": "6c162f8e",
   "metadata": {},
   "outputs": [],
   "source": [
    "x1 = np.linspace(0,a,n+1)"
   ]
  },
  {
   "cell_type": "code",
   "execution_count": 7,
   "id": "bcd08232",
   "metadata": {},
   "outputs": [
    {
     "data": {
      "text/plain": [
       "array([0.  , 0.25, 0.5 , 0.75, 1.  ])"
      ]
     },
     "execution_count": 7,
     "metadata": {},
     "output_type": "execute_result"
    }
   ],
   "source": [
    "x1"
   ]
  },
  {
   "cell_type": "code",
   "execution_count": 8,
   "id": "c75bfe20",
   "metadata": {},
   "outputs": [],
   "source": [
    "x2 = np.linspace(b,c,n+1)"
   ]
  },
  {
   "cell_type": "code",
   "execution_count": 9,
   "id": "d117a9bb",
   "metadata": {},
   "outputs": [
    {
     "data": {
      "text/plain": [
       "array([2.  , 2.25, 2.5 , 2.75, 3.  ])"
      ]
     },
     "execution_count": 9,
     "metadata": {},
     "output_type": "execute_result"
    }
   ],
   "source": [
    "x2"
   ]
  },
  {
   "cell_type": "code",
   "execution_count": 10,
   "id": "9bb549a0",
   "metadata": {},
   "outputs": [],
   "source": [
    "xdelta = np.linspace(a-m*h,b+m*h,nd+2*m)"
   ]
  },
  {
   "cell_type": "code",
   "execution_count": 11,
   "id": "9c2f77cc",
   "metadata": {},
   "outputs": [
    {
     "data": {
      "text/plain": [
       "array([0.75 , 0.875, 1.   , 1.125, 1.25 , 1.375, 1.5  , 1.625, 1.75 ,\n",
       "       1.875, 2.   , 2.125, 2.25 ])"
      ]
     },
     "execution_count": 11,
     "metadata": {},
     "output_type": "execute_result"
    }
   ],
   "source": [
    "xdelta"
   ]
  },
  {
   "cell_type": "code",
   "execution_count": 12,
   "id": "211acfd8",
   "metadata": {},
   "outputs": [],
   "source": [
    "X = np.concatenate([x1,xdelta,x2])"
   ]
  },
  {
   "cell_type": "code",
   "execution_count": 13,
   "id": "db9fc011",
   "metadata": {},
   "outputs": [
    {
     "data": {
      "text/plain": [
       "array([0.   , 0.25 , 0.5  , 0.75 , 1.   , 0.75 , 0.875, 1.   , 1.125,\n",
       "       1.25 , 1.375, 1.5  , 1.625, 1.75 , 1.875, 2.   , 2.125, 2.25 ,\n",
       "       2.   , 2.25 , 2.5  , 2.75 , 3.   ])"
      ]
     },
     "execution_count": 13,
     "metadata": {},
     "output_type": "execute_result"
    }
   ],
   "source": [
    "X"
   ]
  },
  {
   "cell_type": "code",
   "execution_count": 17,
   "id": "c8b7b8bd",
   "metadata": {},
   "outputs": [],
   "source": [
    "N1 = n + 1"
   ]
  },
  {
   "cell_type": "code",
   "execution_count": 59,
   "id": "a8f14059",
   "metadata": {},
   "outputs": [
    {
     "name": "stdout",
     "output_type": "stream",
     "text": [
      "1 0.0\n",
      "2 0.25\n",
      "3 0.5\n",
      "4 0.75\n",
      "5 1.0\n"
     ]
    }
   ],
   "source": [
    "for i in range(1,N1):\n",
    "    print(i,X[i-1])"
   ]
  },
  {
   "cell_type": "code",
   "execution_count": 19,
   "id": "69a6dc40",
   "metadata": {},
   "outputs": [],
   "source": [
    "Ndelta=nd+2*m"
   ]
  },
  {
   "cell_type": "code",
   "execution_count": 20,
   "id": "7890fa61",
   "metadata": {
    "scrolled": true
   },
   "outputs": [
    {
     "name": "stdout",
     "output_type": "stream",
     "text": [
      "7 0.875\n",
      "8 1.0\n",
      "9 1.125\n",
      "10 1.25\n",
      "11 1.375\n",
      "12 1.5\n",
      "13 1.625\n",
      "14 1.75\n",
      "15 1.875\n",
      "16 2.0\n",
      "17 2.125\n",
      "18 2.25\n"
     ]
    }
   ],
   "source": [
    "for i in range(N1+1,N1+Ndelta):\n",
    "    print(i,X[i-1])"
   ]
  },
  {
   "cell_type": "code",
   "execution_count": 53,
   "id": "38a96657",
   "metadata": {},
   "outputs": [],
   "source": [
    "N2 = n + 1"
   ]
  },
  {
   "cell_type": "code",
   "execution_count": 54,
   "id": "ed195eb7",
   "metadata": {},
   "outputs": [],
   "source": [
    "N=N1+Ndelta+N2"
   ]
  },
  {
   "cell_type": "code",
   "execution_count": 55,
   "id": "7ffb3955",
   "metadata": {},
   "outputs": [
    {
     "data": {
      "text/plain": [
       "24"
      ]
     },
     "execution_count": 55,
     "metadata": {},
     "output_type": "execute_result"
    }
   ],
   "source": [
    "N"
   ]
  },
  {
   "cell_type": "code",
   "execution_count": 56,
   "id": "f21c8ea3",
   "metadata": {},
   "outputs": [
    {
     "name": "stdout",
     "output_type": "stream",
     "text": [
      "19 2.0\n",
      "20 2.25\n",
      "21 2.5\n",
      "22 2.75\n",
      "23 3.0\n"
     ]
    }
   ],
   "source": [
    "for i in range(N1+Ndelta,N):\n",
    "    print(i,X[i-1])"
   ]
  },
  {
   "cell_type": "markdown",
   "id": "57001ca5",
   "metadata": {},
   "source": [
    "## "
   ]
  },
  {
   "cell_type": "code",
   "execution_count": null,
   "id": "f4aba8c1",
   "metadata": {},
   "outputs": [],
   "source": []
  }
 ],
 "metadata": {
  "kernelspec": {
   "display_name": "Python 3 (ipykernel)",
   "language": "python",
   "name": "python3"
  },
  "language_info": {
   "codemirror_mode": {
    "name": "ipython",
    "version": 3
   },
   "file_extension": ".py",
   "mimetype": "text/x-python",
   "name": "python",
   "nbconvert_exporter": "python",
   "pygments_lexer": "ipython3",
   "version": "3.10.5"
  }
 },
 "nbformat": 4,
 "nbformat_minor": 5
}
